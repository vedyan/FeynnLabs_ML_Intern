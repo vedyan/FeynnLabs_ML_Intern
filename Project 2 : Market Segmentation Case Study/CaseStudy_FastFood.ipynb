{
 "cells": [
  {
   "cell_type": "code",
   "execution_count": 20,
   "id": "8d954692",
   "metadata": {},
   "outputs": [],
   "source": [
    "import numpy as np\n",
    "import pandas as pd"
   ]
  },
  {
   "cell_type": "code",
   "execution_count": 21,
   "id": "076de75a",
   "metadata": {},
   "outputs": [],
   "source": [
    "import warnings\n",
    "warnings.filterwarnings('ignore')"
   ]
  },
  {
   "cell_type": "code",
   "execution_count": 22,
   "id": "d08c9625",
   "metadata": {},
   "outputs": [],
   "source": [
    "mcdonalds = pd.read_csv(\"mcdonalds.csv\")"
   ]
  },
  {
   "cell_type": "code",
   "execution_count": 23,
   "id": "d92b6bf3",
   "metadata": {},
   "outputs": [
    {
     "name": "stdout",
     "output_type": "stream",
     "text": [
      "['yummy', 'convenient', 'spicy', 'fattening', 'greasy', 'fast', 'cheap', 'tasty', 'expensive', 'healthy', 'disgusting', 'Like', 'Age', 'VisitFrequency', 'Gender']\n"
     ]
    }
   ],
   "source": [
    "print(mcdonalds.columns.tolist())"
   ]
  },
  {
   "cell_type": "code",
   "execution_count": 24,
   "id": "e49923a6",
   "metadata": {},
   "outputs": [
    {
     "data": {
      "text/plain": [
       "(1453, 15)"
      ]
     },
     "execution_count": 24,
     "metadata": {},
     "output_type": "execute_result"
    }
   ],
   "source": [
    "mcdonalds.shape"
   ]
  },
  {
   "cell_type": "code",
   "execution_count": 25,
   "id": "64dce82a",
   "metadata": {},
   "outputs": [
    {
     "data": {
      "text/html": [
       "<div>\n",
       "<style scoped>\n",
       "    .dataframe tbody tr th:only-of-type {\n",
       "        vertical-align: middle;\n",
       "    }\n",
       "\n",
       "    .dataframe tbody tr th {\n",
       "        vertical-align: top;\n",
       "    }\n",
       "\n",
       "    .dataframe thead th {\n",
       "        text-align: right;\n",
       "    }\n",
       "</style>\n",
       "<table border=\"1\" class=\"dataframe\">\n",
       "  <thead>\n",
       "    <tr style=\"text-align: right;\">\n",
       "      <th></th>\n",
       "      <th>yummy</th>\n",
       "      <th>convenient</th>\n",
       "      <th>spicy</th>\n",
       "      <th>fattening</th>\n",
       "      <th>greasy</th>\n",
       "      <th>fast</th>\n",
       "      <th>cheap</th>\n",
       "      <th>tasty</th>\n",
       "      <th>expensive</th>\n",
       "      <th>healthy</th>\n",
       "      <th>disgusting</th>\n",
       "      <th>Like</th>\n",
       "      <th>Age</th>\n",
       "      <th>VisitFrequency</th>\n",
       "      <th>Gender</th>\n",
       "    </tr>\n",
       "  </thead>\n",
       "  <tbody>\n",
       "    <tr>\n",
       "      <th>0</th>\n",
       "      <td>No</td>\n",
       "      <td>Yes</td>\n",
       "      <td>No</td>\n",
       "      <td>Yes</td>\n",
       "      <td>No</td>\n",
       "      <td>Yes</td>\n",
       "      <td>Yes</td>\n",
       "      <td>No</td>\n",
       "      <td>Yes</td>\n",
       "      <td>No</td>\n",
       "      <td>No</td>\n",
       "      <td>-3</td>\n",
       "      <td>61</td>\n",
       "      <td>Every three months</td>\n",
       "      <td>Female</td>\n",
       "    </tr>\n",
       "    <tr>\n",
       "      <th>1</th>\n",
       "      <td>Yes</td>\n",
       "      <td>Yes</td>\n",
       "      <td>No</td>\n",
       "      <td>Yes</td>\n",
       "      <td>Yes</td>\n",
       "      <td>Yes</td>\n",
       "      <td>Yes</td>\n",
       "      <td>Yes</td>\n",
       "      <td>Yes</td>\n",
       "      <td>No</td>\n",
       "      <td>No</td>\n",
       "      <td>+2</td>\n",
       "      <td>51</td>\n",
       "      <td>Every three months</td>\n",
       "      <td>Female</td>\n",
       "    </tr>\n",
       "    <tr>\n",
       "      <th>2</th>\n",
       "      <td>No</td>\n",
       "      <td>Yes</td>\n",
       "      <td>Yes</td>\n",
       "      <td>Yes</td>\n",
       "      <td>Yes</td>\n",
       "      <td>Yes</td>\n",
       "      <td>No</td>\n",
       "      <td>Yes</td>\n",
       "      <td>Yes</td>\n",
       "      <td>Yes</td>\n",
       "      <td>No</td>\n",
       "      <td>+1</td>\n",
       "      <td>62</td>\n",
       "      <td>Every three months</td>\n",
       "      <td>Female</td>\n",
       "    </tr>\n",
       "  </tbody>\n",
       "</table>\n",
       "</div>"
      ],
      "text/plain": [
       "  yummy convenient spicy fattening greasy fast cheap tasty expensive healthy  \\\n",
       "0    No        Yes    No       Yes     No  Yes   Yes    No       Yes      No   \n",
       "1   Yes        Yes    No       Yes    Yes  Yes   Yes   Yes       Yes      No   \n",
       "2    No        Yes   Yes       Yes    Yes  Yes    No   Yes       Yes     Yes   \n",
       "\n",
       "  disgusting Like  Age      VisitFrequency  Gender  \n",
       "0         No   -3   61  Every three months  Female  \n",
       "1         No   +2   51  Every three months  Female  \n",
       "2         No   +1   62  Every three months  Female  "
      ]
     },
     "execution_count": 25,
     "metadata": {},
     "output_type": "execute_result"
    }
   ],
   "source": [
    "mcdonalds.head(3)"
   ]
  },
  {
   "cell_type": "code",
   "execution_count": 36,
   "id": "fbb63be6",
   "metadata": {},
   "outputs": [
    {
     "name": "stdout",
     "output_type": "stream",
     "text": [
      "yummy: 0.55\n",
      "convenient: 0.91\n",
      "spicy: 0.09\n",
      "fattening: 0.87\n",
      "greasy: 0.53\n",
      "fast: 0.9\n",
      "cheap: 0.6\n",
      "tasty: 0.64\n",
      "expensive: 0.36\n",
      "healthy: 0.2\n",
      "disgusting: 0.24\n"
     ]
    }
   ],
   "source": [
    "# Selecting the first 11 columns of mcdonalds DataFrame\n",
    "MD_x = mcdonalds.iloc[:, 0:11].values\n",
    "# Converting \"Yes\" to 1 and \"No\" to 0\n",
    "MD_x = (MD_x == \"Yes\").astype(int)\n",
    "# Calculating column means\n",
    "col_means = np.round(np.mean(MD_x, axis=0), 2)\n",
    "\n",
    "# Get column names\n",
    "column_names = mcdonalds.columns[:11].tolist()\n",
    "\n",
    "# Printing column names and their corresponding means\n",
    "for i in range(len(column_names)):\n",
    "    print(f\"{column_names[i]}: {col_means[i]}\")"
   ]
  },
  {
   "cell_type": "markdown",
   "id": "e6d0cf1f",
   "metadata": {},
   "source": [
    "# PCA"
   ]
  },
  {
   "cell_type": "code",
   "execution_count": 37,
   "id": "11ba781c",
   "metadata": {},
   "outputs": [],
   "source": [
    "from sklearn.decomposition import PCA"
   ]
  },
  {
   "cell_type": "code",
   "execution_count": 38,
   "id": "6f6f4c5a",
   "metadata": {},
   "outputs": [],
   "source": [
    "pca = PCA()\n",
    "MD_pca = pca.fit_transform(MD_x)"
   ]
  },
  {
   "cell_type": "code",
   "execution_count": 46,
   "id": "2cd5bc74",
   "metadata": {},
   "outputs": [
    {
     "name": "stdout",
     "output_type": "stream",
     "text": [
      "Explained variance:\n",
      "[0.57272954 0.3687483  0.25446554 0.15893086 0.11376379 0.09620408\n",
      " 0.08386678 0.07564    0.07030972 0.06187963 0.05608433]\n"
     ]
    }
   ],
   "source": [
    "explained_variance = np.var(MD_pca, axis=0)\n",
    "print(\"Explained variance:\")\n",
    "print(explained_variance)"
   ]
  },
  {
   "cell_type": "code",
   "execution_count": 44,
   "id": "ada75308",
   "metadata": {},
   "outputs": [
    {
     "name": "stdout",
     "output_type": "stream",
     "text": [
      "Explained Variance Ratio:\n",
      "[0.29944723 0.19279721 0.13304535 0.08309578 0.05948052 0.05029956\n",
      " 0.0438491  0.03954779 0.0367609  0.03235329 0.02932326]\n"
     ]
    }
   ],
   "source": [
    "explained_variance_ratio = explained_variance / np.sum(explained_variance)\n",
    "print(\"Explained Variance Ratio:\")\n",
    "print(explained_variance_ratio)"
   ]
  },
  {
   "cell_type": "code",
   "execution_count": 45,
   "id": "02ee4a24",
   "metadata": {},
   "outputs": [
    {
     "name": "stdout",
     "output_type": "stream",
     "text": [
      "Cumulstive_proportion:\n",
      "[0.29944723 0.49224445 0.6252898  0.70838558 0.7678661  0.81816566\n",
      " 0.86201476 0.90156255 0.93832345 0.97067674 1.        ]\n"
     ]
    }
   ],
   "source": [
    "cumulative_proportion = np.cumsum(explained_variance_ratio)\n",
    "print(\"Cumulstive_proportion:\")\n",
    "print(cumulative_proportion)"
   ]
  },
  {
   "cell_type": "code",
   "execution_count": 47,
   "id": "a1a5950b",
   "metadata": {},
   "outputs": [
    {
     "name": "stdout",
     "output_type": "stream",
     "text": [
      "    Standard deviation  Proportion of Variance  Cumulative Proportion\n",
      "0             0.756789                0.299447               0.299447\n",
      "1             0.607246                0.192797               0.492244\n",
      "2             0.504446                0.133045               0.625290\n",
      "3             0.398661                0.083096               0.708386\n",
      "4             0.337289                0.059481               0.767866\n",
      "5             0.310168                0.050300               0.818166\n",
      "6             0.289598                0.043849               0.862015\n",
      "7             0.275027                0.039548               0.901563\n",
      "8             0.265160                0.036761               0.938323\n",
      "9             0.248756                0.032353               0.970677\n",
      "10            0.236821                0.029323               1.000000\n"
     ]
    }
   ],
   "source": [
    "# Summary\n",
    "summary = pd.DataFrame({\n",
    "    'Standard deviation': np.sqrt(explained_variance),\n",
    "    'Proportion of Variance': explained_variance_ratio,\n",
    "    'Cumulative Proportion': cumulative_proportion\n",
    "})\n",
    "print(summary)"
   ]
  },
  {
   "cell_type": "code",
   "execution_count": 48,
   "id": "0b81c6fe",
   "metadata": {},
   "outputs": [
    {
     "name": "stdout",
     "output_type": "stream",
     "text": [
      "Principal Components:\n",
      "           PC1       PC2       PC3       PC4       PC5       PC6       PC7  \\\n",
      "0     0.425367 -0.219079  0.663255 -0.401300  0.201705 -0.389767 -0.211982   \n",
      "1    -0.218638  0.388190 -0.730827 -0.094724  0.044669 -0.086596 -0.095877   \n",
      "2     0.375415  0.730435 -0.122040  0.692262  0.839643 -0.687406  0.583112   \n",
      "3    -0.172926 -0.352752 -0.843795  0.206998 -0.681415 -0.036133 -0.054284   \n",
      "4     0.187057 -0.807610  0.028537  0.548332  0.854074 -0.097305 -0.457043   \n",
      "...        ...       ...       ...       ...       ...       ...       ...   \n",
      "1448  1.550242  0.275031 -0.013737  0.200604 -0.145063  0.306575 -0.075308   \n",
      "1449 -0.957339  0.014308  0.303843  0.444350 -0.133690  0.381804 -0.326432   \n",
      "1450 -0.185894  1.062662  0.220857 -0.467643 -0.187757 -0.192703 -0.091597   \n",
      "1451 -1.182064 -0.038570  0.561561  0.701126  0.047645  0.193687 -0.027335   \n",
      "1452  1.550242  0.275031 -0.013737  0.200604 -0.145063  0.306575 -0.075308   \n",
      "\n",
      "           PC8       PC9      PC10      PC11  \n",
      "0     0.163235  0.181007  0.515706 -0.567074  \n",
      "1    -0.034756  0.111476  0.493313 -0.500440  \n",
      "2     0.364379 -0.322288  0.061759  0.242741  \n",
      "3    -0.231477 -0.028003 -0.250678 -0.051034  \n",
      "4     0.171758 -0.074409  0.031897  0.082245  \n",
      "...        ...       ...       ...       ...  \n",
      "1448  0.345552 -0.136589 -0.432798 -0.456076  \n",
      "1449  0.878047 -0.304441 -0.247443 -0.193671  \n",
      "1450 -0.036576  0.038255  0.056518 -0.012800  \n",
      "1451 -0.339374  0.022267 -0.002573 -0.105316  \n",
      "1452  0.345552 -0.136589 -0.432798 -0.456076  \n",
      "\n",
      "[1453 rows x 11 columns]\n"
     ]
    }
   ],
   "source": [
    "# now for each principal component i.e from 0 to 11\n",
    "print(\"Principal Components:\")\n",
    "names = ['PC1','PC2','PC3','PC4','PC5','PC6','PC7','PC8','PC9','PC10','PC11']\n",
    "print(pd.DataFrame(data= MD_pca, columns=names))"
   ]
  },
  {
   "cell_type": "code",
   "execution_count": 50,
   "id": "5ae693e9",
   "metadata": {},
   "outputs": [
    {
     "data": {
      "text/html": [
       "<div>\n",
       "<style scoped>\n",
       "    .dataframe tbody tr th:only-of-type {\n",
       "        vertical-align: middle;\n",
       "    }\n",
       "\n",
       "    .dataframe tbody tr th {\n",
       "        vertical-align: top;\n",
       "    }\n",
       "\n",
       "    .dataframe thead th {\n",
       "        text-align: right;\n",
       "    }\n",
       "</style>\n",
       "<table border=\"1\" class=\"dataframe\">\n",
       "  <thead>\n",
       "    <tr style=\"text-align: right;\">\n",
       "      <th></th>\n",
       "      <th>PC1</th>\n",
       "      <th>PC2</th>\n",
       "      <th>PC3</th>\n",
       "      <th>PC4</th>\n",
       "      <th>PC5</th>\n",
       "      <th>PC6</th>\n",
       "      <th>PC7</th>\n",
       "      <th>PC8</th>\n",
       "      <th>PC9</th>\n",
       "      <th>PC10</th>\n",
       "      <th>PC11</th>\n",
       "    </tr>\n",
       "    <tr>\n",
       "      <th>variable</th>\n",
       "      <th></th>\n",
       "      <th></th>\n",
       "      <th></th>\n",
       "      <th></th>\n",
       "      <th></th>\n",
       "      <th></th>\n",
       "      <th></th>\n",
       "      <th></th>\n",
       "      <th></th>\n",
       "      <th></th>\n",
       "      <th></th>\n",
       "    </tr>\n",
       "  </thead>\n",
       "  <tbody>\n",
       "    <tr>\n",
       "      <th>yummy</th>\n",
       "      <td>-0.476933</td>\n",
       "      <td>0.363790</td>\n",
       "      <td>-0.304444</td>\n",
       "      <td>0.055162</td>\n",
       "      <td>-0.307535</td>\n",
       "      <td>0.170738</td>\n",
       "      <td>-0.280519</td>\n",
       "      <td>0.013041</td>\n",
       "      <td>0.572403</td>\n",
       "      <td>-0.110284</td>\n",
       "      <td>0.045439</td>\n",
       "    </tr>\n",
       "    <tr>\n",
       "      <th>convenient</th>\n",
       "      <td>-0.155332</td>\n",
       "      <td>0.016414</td>\n",
       "      <td>-0.062515</td>\n",
       "      <td>-0.142425</td>\n",
       "      <td>0.277608</td>\n",
       "      <td>-0.347830</td>\n",
       "      <td>-0.059738</td>\n",
       "      <td>-0.113079</td>\n",
       "      <td>-0.018465</td>\n",
       "      <td>-0.665818</td>\n",
       "      <td>-0.541616</td>\n",
       "    </tr>\n",
       "    <tr>\n",
       "      <th>spicy</th>\n",
       "      <td>-0.006356</td>\n",
       "      <td>0.018809</td>\n",
       "      <td>-0.037019</td>\n",
       "      <td>0.197619</td>\n",
       "      <td>0.070620</td>\n",
       "      <td>-0.355087</td>\n",
       "      <td>0.707637</td>\n",
       "      <td>0.375934</td>\n",
       "      <td>0.400280</td>\n",
       "      <td>-0.075634</td>\n",
       "      <td>0.141730</td>\n",
       "    </tr>\n",
       "    <tr>\n",
       "      <th>fattening</th>\n",
       "      <td>0.116232</td>\n",
       "      <td>-0.034094</td>\n",
       "      <td>-0.322359</td>\n",
       "      <td>-0.354139</td>\n",
       "      <td>-0.073405</td>\n",
       "      <td>-0.406515</td>\n",
       "      <td>-0.385943</td>\n",
       "      <td>0.589622</td>\n",
       "      <td>-0.160512</td>\n",
       "      <td>-0.005338</td>\n",
       "      <td>0.250910</td>\n",
       "    </tr>\n",
       "    <tr>\n",
       "      <th>greasy</th>\n",
       "      <td>0.304443</td>\n",
       "      <td>-0.063839</td>\n",
       "      <td>-0.802373</td>\n",
       "      <td>0.253960</td>\n",
       "      <td>0.361399</td>\n",
       "      <td>0.209347</td>\n",
       "      <td>0.036170</td>\n",
       "      <td>-0.138241</td>\n",
       "      <td>-0.002847</td>\n",
       "      <td>0.008707</td>\n",
       "      <td>0.001642</td>\n",
       "    </tr>\n",
       "    <tr>\n",
       "      <th>fast</th>\n",
       "      <td>-0.108493</td>\n",
       "      <td>-0.086972</td>\n",
       "      <td>-0.064642</td>\n",
       "      <td>-0.097363</td>\n",
       "      <td>0.107930</td>\n",
       "      <td>-0.594632</td>\n",
       "      <td>-0.086846</td>\n",
       "      <td>-0.627799</td>\n",
       "      <td>0.166197</td>\n",
       "      <td>0.239532</td>\n",
       "      <td>0.339265</td>\n",
       "    </tr>\n",
       "    <tr>\n",
       "      <th>cheap</th>\n",
       "      <td>-0.337186</td>\n",
       "      <td>-0.610633</td>\n",
       "      <td>-0.149310</td>\n",
       "      <td>0.118958</td>\n",
       "      <td>-0.128973</td>\n",
       "      <td>-0.103241</td>\n",
       "      <td>-0.040449</td>\n",
       "      <td>0.140060</td>\n",
       "      <td>0.076069</td>\n",
       "      <td>0.428087</td>\n",
       "      <td>-0.489283</td>\n",
       "    </tr>\n",
       "    <tr>\n",
       "      <th>tasty</th>\n",
       "      <td>-0.471514</td>\n",
       "      <td>0.307318</td>\n",
       "      <td>-0.287265</td>\n",
       "      <td>-0.002547</td>\n",
       "      <td>-0.210899</td>\n",
       "      <td>-0.076914</td>\n",
       "      <td>0.360453</td>\n",
       "      <td>-0.072792</td>\n",
       "      <td>-0.639086</td>\n",
       "      <td>0.079184</td>\n",
       "      <td>0.019552</td>\n",
       "    </tr>\n",
       "    <tr>\n",
       "      <th>expensive</th>\n",
       "      <td>0.329042</td>\n",
       "      <td>0.601286</td>\n",
       "      <td>0.024397</td>\n",
       "      <td>0.067816</td>\n",
       "      <td>-0.003125</td>\n",
       "      <td>-0.261342</td>\n",
       "      <td>-0.068385</td>\n",
       "      <td>0.029539</td>\n",
       "      <td>0.066996</td>\n",
       "      <td>0.454399</td>\n",
       "      <td>-0.490069</td>\n",
       "    </tr>\n",
       "    <tr>\n",
       "      <th>healthy</th>\n",
       "      <td>-0.213711</td>\n",
       "      <td>0.076593</td>\n",
       "      <td>0.192051</td>\n",
       "      <td>0.763488</td>\n",
       "      <td>0.287846</td>\n",
       "      <td>-0.178226</td>\n",
       "      <td>-0.349616</td>\n",
       "      <td>0.176303</td>\n",
       "      <td>-0.185572</td>\n",
       "      <td>-0.038117</td>\n",
       "      <td>0.157608</td>\n",
       "    </tr>\n",
       "    <tr>\n",
       "      <th>disgusting</th>\n",
       "      <td>0.374753</td>\n",
       "      <td>-0.139656</td>\n",
       "      <td>-0.088571</td>\n",
       "      <td>0.369539</td>\n",
       "      <td>-0.729209</td>\n",
       "      <td>-0.210878</td>\n",
       "      <td>-0.026792</td>\n",
       "      <td>-0.167181</td>\n",
       "      <td>-0.072483</td>\n",
       "      <td>-0.289592</td>\n",
       "      <td>-0.040662</td>\n",
       "    </tr>\n",
       "  </tbody>\n",
       "</table>\n",
       "</div>"
      ],
      "text/plain": [
       "                 PC1       PC2       PC3       PC4       PC5       PC6  \\\n",
       "variable                                                                 \n",
       "yummy      -0.476933  0.363790 -0.304444  0.055162 -0.307535  0.170738   \n",
       "convenient -0.155332  0.016414 -0.062515 -0.142425  0.277608 -0.347830   \n",
       "spicy      -0.006356  0.018809 -0.037019  0.197619  0.070620 -0.355087   \n",
       "fattening   0.116232 -0.034094 -0.322359 -0.354139 -0.073405 -0.406515   \n",
       "greasy      0.304443 -0.063839 -0.802373  0.253960  0.361399  0.209347   \n",
       "fast       -0.108493 -0.086972 -0.064642 -0.097363  0.107930 -0.594632   \n",
       "cheap      -0.337186 -0.610633 -0.149310  0.118958 -0.128973 -0.103241   \n",
       "tasty      -0.471514  0.307318 -0.287265 -0.002547 -0.210899 -0.076914   \n",
       "expensive   0.329042  0.601286  0.024397  0.067816 -0.003125 -0.261342   \n",
       "healthy    -0.213711  0.076593  0.192051  0.763488  0.287846 -0.178226   \n",
       "disgusting  0.374753 -0.139656 -0.088571  0.369539 -0.729209 -0.210878   \n",
       "\n",
       "                 PC7       PC8       PC9      PC10      PC11  \n",
       "variable                                                      \n",
       "yummy      -0.280519  0.013041  0.572403 -0.110284  0.045439  \n",
       "convenient -0.059738 -0.113079 -0.018465 -0.665818 -0.541616  \n",
       "spicy       0.707637  0.375934  0.400280 -0.075634  0.141730  \n",
       "fattening  -0.385943  0.589622 -0.160512 -0.005338  0.250910  \n",
       "greasy      0.036170 -0.138241 -0.002847  0.008707  0.001642  \n",
       "fast       -0.086846 -0.627799  0.166197  0.239532  0.339265  \n",
       "cheap      -0.040449  0.140060  0.076069  0.428087 -0.489283  \n",
       "tasty       0.360453 -0.072792 -0.639086  0.079184  0.019552  \n",
       "expensive  -0.068385  0.029539  0.066996  0.454399 -0.490069  \n",
       "healthy    -0.349616  0.176303 -0.185572 -0.038117  0.157608  \n",
       "disgusting -0.026792 -0.167181 -0.072483 -0.289592 -0.040662  "
      ]
     },
     "execution_count": 50,
     "metadata": {},
     "output_type": "execute_result"
    }
   ],
   "source": [
    "df_eleven = column_names\n",
    "loadings = pca.components_\n",
    "num_pc = pca.n_features_\n",
    "pc_list = [\"PC\"+str(i) for i in list(range(1, num_pc+1))]\n",
    "loadings_df = pd.DataFrame.from_dict(dict(zip(pc_list, loadings)))\n",
    "loadings_df['variable'] = df_eleven\n",
    "loadings_df = loadings_df.set_index('variable')\n",
    "loadings_df"
   ]
  },
  {
   "cell_type": "code",
   "execution_count": 52,
   "id": "107f73c5",
   "metadata": {},
   "outputs": [],
   "source": [
    "import matplotlib.pyplot as plt\n",
    "import seaborn as sns"
   ]
  },
  {
   "cell_type": "code",
   "execution_count": 53,
   "id": "be619a3a",
   "metadata": {},
   "outputs": [
    {
     "data": {
      "image/png": "[encoded data removed]",
      "text/plain": [
       "<Figure size 432x288 with 1 Axes>"
      ]
     },
     "metadata": {
      "needs_background": "light"
     },
     "output_type": "display_data"
    }
   ],
   "source": [
    "plt.scatter(MD_pca[:, 0], MD_pca[:, 1], c='grey')\n",
    "plt.xlabel('Principal Component 1')\n",
    "plt.ylabel('Principal Component 2')\n",
    "plt.title('PCA Plot')\n",
    "plt.show()"
   ]
  },
  {
   "cell_type": "code",
   "execution_count": 61,
   "id": "5cb0dce4",
   "metadata": {},
   "outputs": [
    {
     "data": {
      "image/png": "[encoded data removed]",
      "text/plain": [
       "<Figure size 432x288 with 1 Axes>"
      ]
     },
     "metadata": {
      "needs_background": "light"
     },
     "output_type": "display_data"
    }
   ],
   "source": [
    "# Perform K-means clustering\n",
    "from sklearn.cluster import KMeans\n",
    "k_values = range(2, 9)\n",
    "results = []\n",
    "for k in k_values:\n",
    "    kmeans = KMeans(n_clusters=k, random_state=1234)\n",
    "    kmeans.fit(MD_x)\n",
    "    results.append(kmeans)\n",
    "\n",
    "# Plot number of segments vs. within-cluster sum of squares\n",
    "plt.bar(k_values, [res.inertia_ for res in results])\n",
    "plt.xlabel(\"Number of segments\")\n",
    "plt.show()"
   ]
  },
  {
   "cell_type": "code",
   "execution_count": 63,
   "id": "98534a1f",
   "metadata": {},
   "outputs": [
    {
     "name": "stdout",
     "output_type": "stream",
     "text": [
      "Model 2:\n",
      "GaussianMixture(n_components=2)\n",
      "Model 3:\n",
      "GaussianMixture(n_components=3)\n",
      "Model 4:\n",
      "GaussianMixture(n_components=4)\n",
      "Model 5:\n",
      "GaussianMixture(n_components=5)\n",
      "Model 6:\n",
      "GaussianMixture(n_components=6)\n",
      "Model 7:\n",
      "GaussianMixture(n_components=7)\n",
      "Model 8:\n",
      "GaussianMixture(n_components=8)\n"
     ]
    }
   ],
   "source": [
    "# Fit Gaussian mixture models for different number of components (2 to 8)\n",
    "from sklearn.mixture import GaussianMixture\n",
    "k_values = range(2, 9)\n",
    "models = []\n",
    "for k in k_values:\n",
    "    model = GaussianMixture(n_components=k)\n",
    "    model.fit(MD_x)\n",
    "    models.append(model)\n",
    "\n",
    "# Print the fitted mixture models\n",
    "for i, model in enumerate(models):\n",
    "    print(f\"Model {i+2}:\")\n",
    "    print(model)"
   ]
  },
  {
   "cell_type": "code",
   "execution_count": 64,
   "id": "1f65b909",
   "metadata": {},
   "outputs": [
    {
     "data": {
      "image/png": "[encoded data removed]",
      "text/plain": [
       "<Figure size 432x288 with 1 Axes>"
      ]
     },
     "metadata": {
      "needs_background": "light"
     },
     "output_type": "display_data"
    }
   ],
   "source": [
    "\n",
    "AIC = [model.aic(MD_x) for model in models]\n",
    "BIC = [model.bic(MD_x) for model in models]\n",
    "ICL = [model.lower_bound_ for model in models]\n",
    "plt.plot(k_values, AIC, label=\"AIC\")\n",
    "plt.plot(k_values, BIC, label=\"BIC\")\n",
    "plt.plot(k_values, ICL, label=\"ICL\")\n",
    "plt.ylabel(\"Value of information criteria\")\n",
    "plt.xlabel(\"Number of components\")\n",
    "plt.legend()\n",
    "plt.show()"
   ]
  },
  {
   "cell_type": "code",
   "execution_count": 65,
   "id": "60926d60",
   "metadata": {},
   "outputs": [
    {
     "name": "stdout",
     "output_type": "stream",
     "text": [
      "Mixture   0    1    2    3\n",
      "K-means                   \n",
      "0         0  472   53    1\n",
      "1         1  230    0  142\n",
      "2        96    0    5  138\n",
      "3        10   19  247   39\n"
     ]
    }
   ],
   "source": [
    "desired_k = 4\n",
    "desired_model = models[desired_k - 2]\n",
    "\n",
    "# Obtain the cluster assignments from the desired model\n",
    "MD_m4_clusters = desired_model.predict(MD_x)\n",
    "\n",
    "# Compare cluster assignments from K-means and Gaussian mixture model\n",
    "kmeans = KMeans(n_clusters=desired_k, random_state=1234)\n",
    "kmeans_clusters = kmeans.fit_predict(MD_x)\n",
    "table = pd.crosstab(kmeans_clusters, MD_m4_clusters, rownames=[\"K-means\"], colnames=[\"Mixture\"])\n",
    "print(table)"
   ]
  },
  {
   "cell_type": "code",
   "execution_count": 66,
   "id": "8cfefefb",
   "metadata": {},
   "outputs": [
    {
     "name": "stdout",
     "output_type": "stream",
     "text": [
      "Mixture    0    1    2   3\n",
      "K-means                   \n",
      "0        327    0  178  21\n",
      "1         51  124  189   9\n",
      "2          3  120  107   9\n",
      "3        119    0  178  18\n"
     ]
    }
   ],
   "source": [
    "MD_m4a = GaussianMixture(n_components=desired_k)\n",
    "MD_m4a.fit(MD_x, MD_m4_clusters)\n",
    "\n",
    "# Compare cluster assignments from K-means and the fitted Gaussian mixture model\n",
    "MD_m4a_clusters = MD_m4a.predict(MD_x)\n",
    "table = pd.crosstab(kmeans_clusters, MD_m4a_clusters, rownames=[\"K-means\"], colnames=[\"Mixture\"])\n",
    "print(table)"
   ]
  },
  {
   "cell_type": "code",
   "execution_count": 67,
   "id": "3d6e9927",
   "metadata": {},
   "outputs": [
    {
     "name": "stdout",
     "output_type": "stream",
     "text": [
      "Log-Likelihood (Mixture Model with Fixed Clusters): 12.045609066451185\n",
      "Log-Likelihood (Fitted Mixture Model): 9.535516836283348\n"
     ]
    }
   ],
   "source": [
    "loglik_m4a = MD_m4a.score(MD_x)\n",
    "loglik_m4 = desired_model.score(MD_x)\n",
    "print(f\"Log-Likelihood (Mixture Model with Fixed Clusters): {loglik_m4a}\")\n",
    "print(f\"Log-Likelihood (Fitted Mixture Model): {loglik_m4}\")"
   ]
  },
  {
   "cell_type": "code",
   "execution_count": 68,
   "id": "6b7d3527",
   "metadata": {},
   "outputs": [
    {
     "name": "stdout",
     "output_type": "stream",
     "text": [
      "+1              152\n",
      "+2              187\n",
      "+3              229\n",
      "+4              160\n",
      "-1               58\n",
      "-2               59\n",
      "-3               73\n",
      "-4               71\n",
      "0               169\n",
      "I hate it!-5    152\n",
      "I love it!+5    143\n",
      "Name: Like, dtype: int64\n"
     ]
    }
   ],
   "source": [
    "like_table = mcdonalds['Like'].value_counts().sort_index(ascending=False)\n",
    "like_table_rev = like_table.iloc[::-1]\n",
    "print(like_table_rev)"
   ]
  },
  {
   "cell_type": "code",
   "execution_count": 69,
   "id": "19dbdaaa",
   "metadata": {},
   "outputs": [
    {
     "name": "stdout",
     "output_type": "stream",
     "text": [
      "2.0     160\n",
      "3.0     229\n",
      "4.0     187\n",
      "5.0     152\n",
      "6.0     169\n",
      "7.0      58\n",
      "8.0      59\n",
      "9.0      73\n",
      "10.0     71\n",
      "Name: Like.n, dtype: int64\n"
     ]
    }
   ],
   "source": [
    "# Replace the problematic value with NaN\n",
    "mcdonalds['Like'] = pd.to_numeric(mcdonalds['Like'], errors='coerce')\n",
    "\n",
    "# Create a new variable 'Like.n' by subtracting 'Like' from 6\n",
    "mcdonalds['Like.n'] = 6 - mcdonalds['Like']\n",
    "\n",
    "# Drop rows with NaN values in 'Like.n'\n",
    "mcdonalds = mcdonalds.dropna(subset=['Like.n'])\n",
    "\n",
    "# Create a frequency table of 'Like.n'\n",
    "like_n_table = mcdonalds['Like.n'].value_counts().sort_index()\n",
    "print(like_n_table)"
   ]
  },
  {
   "cell_type": "code",
   "execution_count": 70,
   "id": "3d9efd2c",
   "metadata": {},
   "outputs": [
    {
     "name": "stdout",
     "output_type": "stream",
     "text": [
      "Like.n ~ yummy + convenient + spicy + fattening + greasy + fast + cheap + tasty + expensive + healthy + disgusting\n"
     ]
    }
   ],
   "source": [
    "# Construct the formula for the regression model\n",
    "formula = 'Like.n ~ ' + ' + '.join(mcdonalds.columns[0:11])\n",
    "print(formula)"
   ]
  },
  {
   "cell_type": "code",
   "execution_count": null,
   "id": "fb6e411f",
   "metadata": {},
   "outputs": [],
   "source": []
  }
 ],
 "metadata": {
  "kernelspec": {
   "display_name": "Python 3 (ipykernel)",
   "language": "python",
   "name": "python3"
  },
  "language_info": {
   "codemirror_mode": {
    "name": "ipython",
    "version": 3
   },
   "file_extension": ".py",
   "mimetype": "text/x-python",
   "name": "python",
   "nbconvert_exporter": "python",
   "pygments_lexer": "ipython3",
   "version": "3.9.7"
  }
 },
 "nbformat": 4,
 "nbformat_minor": 5
}
